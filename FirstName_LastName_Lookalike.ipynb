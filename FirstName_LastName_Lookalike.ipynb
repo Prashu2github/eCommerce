{
  "nbformat": 4,
  "nbformat_minor": 0,
  "metadata": {
    "colab": {
      "provenance": []
    },
    "kernelspec": {
      "name": "python3",
      "display_name": "Python 3"
    },
    "language_info": {
      "name": "python"
    }
  },
  "cells": [
    {
      "source": [
        "import pandas as pd\n",
        "from sklearn.preprocessing import StandardScaler\n",
        "from sklearn.metrics.pairwise import cosine_similarity"
      ],
      "cell_type": "code",
      "metadata": {
        "id": "FgezJDjm30XI"
      },
      "execution_count": 1,
      "outputs": []
    },
    {
      "source": [
        "# Load data from CSV files\n",
        "customers = pd.read_csv('Customers.csv')\n",
        "transactions = pd.read_csv('Transactions.csv')\n",
        "products = pd.read_csv('Products.csv')\n",
        "\n",
        "# Feature engineering: Create a customer-product interaction matrix\n",
        "customer_product_matrix = transactions.merge(customers, on='CustomerID').merge(products, on='ProductID').pivot_table(\n",
        "    index='CustomerID',\n",
        "    columns='ProductID',\n",
        "    values='Quantity',\n",
        "    aggfunc='sum',\n",
        "    fill_value=0\n",
        ")\n",
        "\n",
        "# Normalize the data\n",
        "scaler = StandardScaler()\n",
        "normalized_matrix = scaler.fit_transform(customer_product_matrix)"
      ],
      "cell_type": "code",
      "metadata": {
        "id": "Y_YqkO-K31fg"
      },
      "execution_count": 2,
      "outputs": []
    },
    {
      "source": [
        "# Calculate cosine similarity between customers\n",
        "similarity_matrix = cosine_similarity(normalized_matrix)\n",
        "similarity_df = pd.DataFrame(similarity_matrix,\n",
        "                             index=customer_product_matrix.index,\n",
        "                             columns=customer_product_matrix.index)"
      ],
      "cell_type": "code",
      "metadata": {
        "id": "gldkfHas32RR"
      },
      "execution_count": 3,
      "outputs": []
    },
    {
      "source": [
        "# Function to get top N similar customers\n",
        "def get_top_similar(customers_df, similarity_df, customer_id, top_n=3):\n",
        "    similar_customers = (\n",
        "        similarity_df[customer_id]\n",
        "        .sort_values(ascending=False)\n",
        "        .iloc[1:top_n + 1]  # Skip the first one (self-similarity)\n",
        "    )\n",
        "    return list(zip(similar_customers.index, similar_customers.values))"
      ],
      "cell_type": "code",
      "metadata": {
        "id": "SgeQNdsl328X"
      },
      "execution_count": 4,
      "outputs": []
    },
    {
      "source": [
        "# Generate lookalikes for the first 20 customers\n",
        "lookalike_map = {}\n",
        "for customer_id in customers['CustomerID'][:20]:\n",
        "    lookalike_map[customer_id] = get_top_similar(customers, similarity_df, customer_id)\n",
        "\n",
        "# Create Lookalike.csv\n",
        "lookalike_data = []\n",
        "for cust_id, lookalikes in lookalike_map.items():\n",
        "    for similar_cust_id, score in lookalikes:\n",
        "        lookalike_data.append({\"cust_id\": cust_id, \"similar_cust_id\": similar_cust_id, \"score\": score})\n",
        "\n",
        "lookalike_df = pd.DataFrame(lookalike_data)\n",
        "lookalike_df.to_csv(\"FirstName_LastName_Lookalike.csv\", index=False)"
      ],
      "cell_type": "code",
      "metadata": {
        "id": "7p4bWb6C33ta"
      },
      "execution_count": 5,
      "outputs": []
    }
  ]
}